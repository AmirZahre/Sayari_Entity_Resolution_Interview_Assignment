{
 "cells": [
  {
   "cell_type": "code",
   "execution_count": 1,
   "id": "899cd483-aff5-4065-b0fc-b3c3fb288716",
   "metadata": {},
   "outputs": [],
   "source": [
    "import json\n",
    "import networkx as nx\n",
    "import matplotlib.pyplot as plt\n",
    "import random\n",
    "from datetime import datetime\n",
    "\n",
    "with open('crawler_results.json', 'r') as f:\n",
    "    data = json.load(f)\n"
   ]
  },
  {
   "cell_type": "code",
   "execution_count": 2,
   "id": "8f4dcd3e-cbeb-461c-9bd2-c22b0223af40",
   "metadata": {},
   "outputs": [],
   "source": [
    "# used to confirm number of nodes by counting unique instances of each item\n",
    "unique_items = set()\n",
    "\n",
    "# list of keys to capture\n",
    "links = ['Owners', 'Owner Name',\n",
    "         'Commercial Registered Agent', 'Registered Agent']\n",
    "\n",
    "# initialize nx graph. will collect edges (node <> node relationships) for eventual graphing\n",
    "graph = nx.Graph()\n",
    "\n",
    "for link in links:\n",
    "    for item in data:\n",
    "        # capture business name\n",
    "        business_name = item['business'][1]['Business Info']['TITLE'][0].split('\\n')[\n",
    "            0]\n",
    "\n",
    "        try:\n",
    "            # capture respective info (iterating through links[])\n",
    "            info = item['additional_information']['DRAWER_DETAIL_LIST'][link].split('\\n')[\n",
    "                0]\n",
    "\n",
    "            # add captured business name, info to previously initialized graph as edge\n",
    "            graph.add_edge(business_name, info)\n",
    "\n",
    "            # Count number of unique items added to graph\n",
    "            unique_items.update([business_name, info])\n",
    "\n",
    "        except:\n",
    "            pass\n",
    "\n",
    "assert len(graph.nodes()) == len(unique_items)\n"
   ]
  },
  {
   "cell_type": "code",
   "execution_count": 3,
   "id": "41247bd8-7a07-456c-b374-77e1fd0ff342",
   "metadata": {},
   "outputs": [
    {
     "ename": "SyntaxError",
     "evalue": "EOL while scanning string literal (368696385.py, line 32)",
     "output_type": "error",
     "traceback": [
      "\u001b[0;36m  Cell \u001b[0;32mIn[3], line 32\u001b[0;36m\u001b[0m\n\u001b[0;31m    print(f\"Number of Edges is {i})\u001b[0m\n\u001b[0m                                   ^\u001b[0m\n\u001b[0;31mSyntaxError\u001b[0m\u001b[0;31m:\u001b[0m EOL while scanning string literal\n"
     ]
    }
   ],
   "source": [
    "\"\"\"\n",
    "Create graph\n",
    "\n",
    "\"\"\"\n",
    "\n",
    "\n",
    "def create_connection_graph(node_count: int, labels=False):\n",
    "    i = 0\n",
    "    date_today = datetime.today().strftime('%Y-%m-%d')\n",
    "    connections = []\n",
    "    GraphMatcher = nx.isomorphism.vf2userfunc.GraphMatcher\n",
    "\n",
    "    if labels:\n",
    "        plt.figure(1, figsize=(25, 25))\n",
    "    else:\n",
    "        plt.figure(1, figsize=(10, 10))\n",
    "\n",
    "    # layout graphs with positions using graphviz neato\n",
    "    pos = nx.nx_agraph.graphviz_layout(graph, prog=\"neato\")\n",
    "\n",
    "    # color nodes the same in each connected subgraph\n",
    "    C = (graph.subgraph(c) for c in nx.connected_components(graph))\n",
    "    for g in C:\n",
    "        if len(g.nodes()) > node_count:\n",
    "            connections.append(g.edges())\n",
    "            c = [random.random()] * nx.number_of_nodes(g)  # random color...\n",
    "            edge_labels = nx.get_edge_attributes(g, 'label')\n",
    "\n",
    "            nx.draw(g, pos, node_size=100, node_color=c, vmin=0.0, vmax=1.0,\n",
    "                    with_labels=labels, bbox=dict(facecolor=\"lightgrey\"))\n",
    "            i += 1\n",
    "    print(f\"Number of Edges is {i}\")\n",
    "            \n",
    "    plt.title(f'Graph Generated on {date_today}')\n",
    "    plt.savefig(\n",
    "        f'entity_connections_{node_count}_node_min_labels_{labels}.png', \n",
    "        bbox_inches='tight')\n",
    "    plt.show()\n"
   ]
  },
  {
   "cell_type": "code",
   "execution_count": null,
   "id": "c85a785c-0306-44d1-8e43-0434956e4814",
   "metadata": {},
   "outputs": [],
   "source": [
    "create_connection_graph(1, labels=False)\n",
    "create_connection_graph(2, labels=False)\n",
    "create_connection_graph(2, labels=True)"
   ]
  },
  {
   "cell_type": "code",
   "execution_count": null,
   "id": "5fa81e00-127d-4bb8-b7b6-7bb0d3138a60",
   "metadata": {},
   "outputs": [],
   "source": []
  }
 ],
 "metadata": {
  "kernelspec": {
   "display_name": "Python 3 (ipykernel)",
   "language": "python",
   "name": "python3"
  },
  "language_info": {
   "codemirror_mode": {
    "name": "ipython",
    "version": 3
   },
   "file_extension": ".py",
   "mimetype": "text/x-python",
   "name": "python",
   "nbconvert_exporter": "python",
   "pygments_lexer": "ipython3",
   "version": "3.8.10"
  }
 },
 "nbformat": 4,
 "nbformat_minor": 5
}
