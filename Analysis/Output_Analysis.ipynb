{
 "cells": [
  {
   "cell_type": "code",
   "execution_count": 1,
   "id": "67fbafb2-2846-4f1f-a735-f0d0e79de8c5",
   "metadata": {},
   "outputs": [],
   "source": [
    "import json\n",
    "import networkx as nx\n",
    "import matplotlib.pyplot as plt\n",
    "import random\n",
    "from datetime import datetime"
   ]
  },
  {
   "cell_type": "code",
   "execution_count": 2,
   "id": "5a11f284-04c9-470b-98e5-bfb6de40196e",
   "metadata": {},
   "outputs": [],
   "source": [
    "with open('data/crawler_results.json', 'r') as f:\n",
    "    data = json.load(f)"
   ]
  },
  {
   "cell_type": "code",
   "execution_count": 3,
   "id": "a65dc568-1535-4c85-9d25-59cf19f42387",
   "metadata": {},
   "outputs": [],
   "source": [
    "def create_nx_relationships(data):\n",
    "    graph = nx.Graph()  # init nx graph.\n",
    "    # list of keys to capture\n",
    "    entities = ['Owners', 'Owner Name',\n",
    "                'Commercial Registered Agent', 'Registered Agent']\n",
    "\n",
    "    # capture business name <> link\n",
    "    for entity in entities:\n",
    "        for item in data:\n",
    "            # capture business name\n",
    "            business_name = item['business'][1]['Business Info']['TITLE'][0].split('\\n')[\n",
    "                0]\n",
    "\n",
    "            try:\n",
    "                # capture respective info (iterating through links[])\n",
    "                info = item['additional_information']['DRAWER_DETAIL_LIST'][entity].split('\\n')[\n",
    "                    0]\n",
    "                # add captured business name, info to previously initialized graph as edge\n",
    "                graph.add_edge(business_name, info)\n",
    "\n",
    "            except:\n",
    "                pass\n",
    "\n",
    "    return graph\n",
    "\n",
    "graph = create_nx_relationships(data)"
   ]
  },
  {
   "cell_type": "markdown",
   "id": "1537fff7-4553-458a-8dd6-0d2e4c19b96d",
   "metadata": {},
   "source": [
    "## Node with Greatest Number of Connections"
   ]
  },
  {
   "cell_type": "code",
   "execution_count": 4,
   "id": "feaaceb1-c3d5-4fc1-873b-423ad9ef09f5",
   "metadata": {},
   "outputs": [
    {
     "data": {
      "text/plain": [
       "('CORPORATION SERVICE COMPANY', 18)"
      ]
     },
     "execution_count": 4,
     "metadata": {},
     "output_type": "execute_result"
    }
   ],
   "source": [
    "\"\"\"\n",
    "Source: https://stackoverflow.com/questions/44532952/find-number-of-connected-edges-to-a-node-and-node-with-max-connected-edges\n",
    "G.degree(node) gives you the degree of the node and G.degree() is a 'DegreeView' object. \n",
    "It can be converted into a dict using dict(G.degree()).\n",
    "This provides us with the node with the most connections.\n",
    "\"\"\"\n",
    "max(dict(graph.degree()).items(), key = lambda x : x[1])"
   ]
  },
  {
   "cell_type": "markdown",
   "id": "c20e958a-ad35-46a7-a557-7ff169480424",
   "metadata": {},
   "source": [
    "## Nodes with Connections Greater than N"
   ]
  },
  {
   "cell_type": "code",
   "execution_count": 13,
   "id": "3b4a6ef6-6e64-4d36-ab5f-df6e88f1df0f",
   "metadata": {},
   "outputs": [
    {
     "name": "stdout",
     "output_type": "stream",
     "text": [
      "('X-RAY LIMA TANGO, LLC', 4)\n",
      "('REGISTERED AGENT SOLUTIONS, INC.', 6)\n",
      "('C T CORPORATION SYSTEM', 14)\n",
      "('CORPORATION SERVICE COMPANY', 18)\n",
      "('INCORP SERVICES, INC.', 10)\n",
      "('NORTHWEST REGISTERED AGENT SERVICE, INC.', 3)\n",
      "('TANNER  COLLETTE', 3)\n"
     ]
    }
   ],
   "source": [
    "N = 2\n",
    "for val in dict(graph.degree()).items():\n",
    "    if val[1] > N:\n",
    "        print(val)"
   ]
  },
  {
   "cell_type": "markdown",
   "id": "638d0ed6-0203-4a7b-96eb-f312e7b8d5d4",
   "metadata": {},
   "source": [
    "## List of Nodes and Corresponding Edges where Connections Greater Than N"
   ]
  },
  {
   "cell_type": "code",
   "execution_count": 12,
   "id": "60256172-b640-4114-8f6a-4edaef2ab94c",
   "metadata": {},
   "outputs": [
    {
     "data": {
      "text/plain": [
       "[['XLT Pack and Ship',\n",
       "  'XLT Transport',\n",
       "  'XLT TAXI',\n",
       "  'X-RAY LIMA TANGO, LLC',\n",
       "  'CORY  KUNERTH'],\n",
       " ['XPT Specialty',\n",
       "  'XCHANGE BENEFITS, LLC',\n",
       "  '3H AGENT SERVICES, INC.',\n",
       "  'XPT Partners, LLC'],\n",
       " ['Xcel Holdings LLC',\n",
       "  'Xcel Automation',\n",
       "  'TANNER  COLLETTE',\n",
       "  'Xcel Aviation LLC',\n",
       "  'Xcel Automation & Electric LLC'],\n",
       " ['XCLOUD, LLC',\n",
       "  'X S BROKERS INSURANCE AGENCY, INC.',\n",
       "  'Xencom Energy Management, LLC',\n",
       "  'XN FINANCIAL SERVICES INC.',\n",
       "  'REGISTERED AGENT SOLUTIONS, INC.',\n",
       "  'XPO Logistics Freight, Inc.',\n",
       "  'XETA TECHNOLOGIES, INC.'],\n",
       " ['XCEL ERECTORS, INC.',\n",
       "  'XCED AVIATION SERVICES, LLC',\n",
       "  'XCL Marketing, LLC',\n",
       "  'XYLEM WATER SOLUTIONS U.S.A., INC.',\n",
       "  'XCL AssetCo, LLC',\n",
       "  'Xelix Distribution, Inc.',\n",
       "  'XCL Resources, LLC',\n",
       "  'Xeris Pharmaceuticals, Inc.',\n",
       "  'C T CORPORATION SYSTEM',\n",
       "  'XYLEM DEWATERING SOLUTIONS, INC.',\n",
       "  'XCL RoyaltyCo, LLC',\n",
       "  'XO COMMUNICATIONS SERVICES, LLC',\n",
       "  'Xigent Solutions, LLC',\n",
       "  'XLHome, P.C. (dba Home Health Assessments of North Dakota, P.C.)',\n",
       "  'XLT Management Services, Inc.'],\n",
       " ['XTO ENERGY INC.',\n",
       "  'XAP Corporation',\n",
       "  'CORPORATION SERVICE COMPANY',\n",
       "  'XEROX FINANCIAL SERVICES LLC',\n",
       "  'XL INDUSTRIAL SERVICES, INC.',\n",
       "  'XOME FIELD SERVICES LLC',\n",
       "  'XCALIBER INTERNATIONAL LTD., L.L.C.',\n",
       "  'XCEL ENERGY SERVICES INC.',\n",
       "  'XPRESSDOCS GP, LLC',\n",
       "  'XPRESSDOCS PARTNERS, LTD. (dba XPRESSDOCS PARTNERS, LTD., A TEXAS LP)',\n",
       "  'XOME INC.',\n",
       "  'Xactus, LLC',\n",
       "  'XH, LLC',\n",
       "  'XTO HOLDINGS, LLC',\n",
       "  'XOME REALTY SERVICES LLC',\n",
       "  'XZILON, INC.',\n",
       "  'XTO OFFSHORE INC.',\n",
       "  'XP SYSTEMS CORPORATION',\n",
       "  'XCEL ENERGY INC.'],\n",
       " ['XTREME FIRE PROTECTION, LLC',\n",
       "  'Xenex Disinfection Services Inc.',\n",
       "  'XPONET (dba XPONET CORPORATION)',\n",
       "  'XTTRIUM LABORATORIES, INC.',\n",
       "  'X-GEN PHARMACEUTICALS, INC.',\n",
       "  'INCORP SERVICES, INC.',\n",
       "  'Xebec Systems USA LLC',\n",
       "  'XCHANGE TELECOM LLC',\n",
       "  'XTREME DRILLING, LLC',\n",
       "  'XCAST LABS, INC.',\n",
       "  'XConnect, LLC'],\n",
       " ['XactlyOne Foundation',\n",
       "  'Xpert Drywall llc',\n",
       "  'XRQ CORP.',\n",
       "  'NORTHWEST REGISTERED AGENT SERVICE, INC.']]"
      ]
     },
     "execution_count": 12,
     "metadata": {},
     "output_type": "execute_result"
    }
   ],
   "source": [
    "i = 0\n",
    "date_today = datetime.today().strftime('%Y-%m-%d')\n",
    "random.seed(10)  # random seed for node colours\n",
    "N = 3\n",
    "nodes = []\n",
    "\n",
    "pos = nx.nx_agraph.graphviz_layout(\n",
    "    graph, prog=\"neato\")  # X,Y coords for nodes\n",
    "\n",
    "# color nodes the same in each connected subgraph\n",
    "C = (graph.subgraph(c) for c in nx.connected_components(graph))\n",
    "\n",
    "for g in C:\n",
    "    if len(g.nodes()) > N:\n",
    "        nodes.append(list(g.nodes()))\n",
    "        # print(list(g.nodes()))\n",
    "        i += 1\n",
    "        \n",
    "nodes"
   ]
  },
  {
   "cell_type": "code",
   "execution_count": null,
   "id": "82c002ce-96e2-4077-bd25-0633c95569be",
   "metadata": {},
   "outputs": [],
   "source": []
  },
  {
   "cell_type": "code",
   "execution_count": 8,
   "id": "c4362e4f-e608-4cc0-b51f-c7a68c3558a7",
   "metadata": {},
   "outputs": [],
   "source": [
    "def create_connection_graph(graph, node_count: int, labels=False):\n",
    "    i = 0\n",
    "    date_today = datetime.today().strftime('%Y-%m-%d')\n",
    "    random.seed(10)  # random seed for node colours\n",
    "\n",
    "    if labels:\n",
    "        plt.figure(1, figsize=(35, 35))  # enlarge graph w/ labels\n",
    "    else:\n",
    "        plt.figure(1, figsize=(10, 10))\n",
    "\n",
    "    pos = nx.nx_agraph.graphviz_layout(\n",
    "        graph, prog=\"neato\")  # X,Y coords for nodes\n",
    "\n",
    "    # color nodes the same in each connected subgraph\n",
    "    C = (graph.subgraph(c) for c in nx.connected_components(graph))\n",
    "    for g in C:\n",
    "        c = [random.random()] * nx.number_of_nodes(g)  # random color\n",
    "        if len(g.nodes()) > node_count:\n",
    "            nx.draw(g, pos, node_size=100, node_color=c, vmin=0.0, vmax=1.0,\n",
    "                    with_labels=labels, bbox=dict(facecolor=\"whitesmoke\"))\n",
    "            i += 1\n",
    "\n",
    "    plt.title(\n",
    "        f'Graph Generated on {date_today}. \\n There are {i} Edges with a Node Count Greater than {node_count}.')\n",
    "    plt.savefig(\n",
    "        f'entity_connections_graph_{node_count}_node_minimum_with_labels_{labels}.png',\n",
    "        bbox_inches='tight')\n",
    "    plt.close()"
   ]
  },
  {
   "cell_type": "code",
   "execution_count": 9,
   "id": "392e3292-6172-4cd9-b406-fe521fda66e2",
   "metadata": {},
   "outputs": [],
   "source": [
    "graph = create_nx_relationships(data)\n",
    "create_connection_graph(graph, 1, labels=False)\n",
    "create_connection_graph(graph, 2, labels=False)\n",
    "create_connection_graph(graph, 2, labels=True)"
   ]
  },
  {
   "cell_type": "code",
   "execution_count": null,
   "id": "3a5d4193-5b82-42b3-a88d-a432522c8b16",
   "metadata": {},
   "outputs": [],
   "source": []
  }
 ],
 "metadata": {
  "kernelspec": {
   "display_name": "Python 3 (ipykernel)",
   "language": "python",
   "name": "python3"
  },
  "language_info": {
   "codemirror_mode": {
    "name": "ipython",
    "version": 3
   },
   "file_extension": ".py",
   "mimetype": "text/x-python",
   "name": "python",
   "nbconvert_exporter": "python",
   "pygments_lexer": "ipython3",
   "version": "3.8.10"
  }
 },
 "nbformat": 4,
 "nbformat_minor": 5
}
